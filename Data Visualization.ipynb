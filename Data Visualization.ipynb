import pandas as pd
import matplotlib.pyplot as plt
import seaborn as sns
data = {
    "Month": [
        "Jan 2022", "Feb 2022", "Mar 2022", "Apr 2022", "May 2022", "Jun 2022",
        "Jul 2023", "Aug 2023", "Sep 2023", "Oct 2023", "Nov 2023", "Dec 2023",
        "Jan 2024", "Feb 2024", "Mar 2024", "Apr 2024", "May 2024", "Jun 2024",
        "Jul 2025", "Aug 2025", "Sep 2025", "Oct 2025", "Nov 2025", "Dec 2025"
    ],
    "Product Category": [
        "Electronics", "Clothing", "Groceries", "Electronics", "Clothing", "Groceries",
        "Electronics", "Clothing", "Groceries", "Electronics", "Clothing", "Groceries",
        "Electronics", "Clothing", "Groceries", "Electronics", "Clothing", "Groceries",
        "Electronics", "Clothing", "Groceries", "Electronics", "Clothing", "Groceries"
    ],
    "Product Name": [
        "Mobile Phone", "T-Shirt", "Rice Bag", "Tablet", "Jeans", "Flour Pack",
        "Laptop", "Saree", "Vegetables", "Smartwatch", "Jacket", "Milk Pack",
        "Bluetooth Speaker", "Hoodie", "Bread Loaf", "Keyboard", "Skirt", "Sugar Packet",
        "Laptop", "Dress", "Tea Powder", "TV", "Blazer", "Coffee"
    ],
    "Sales (₹)": [
        22000, 600, 1100, 18000, 2200, 450,
        46000, 3800, 280, 7500, 3400, 150,
        2400, 2200, 60, 1500, 1800, 90,
        48000, 3200, 300, 40000, 4500, 200
    ],
    "Units Sold": [
        1, 3, 1, 1, 1, 2,
        1, 1, 6, 2, 1, 4,
        2, 1, 3, 1, 1, 2,
        1, 1, 3, 1, 1, 2
    ],
    "Profit (₹)": [
        3500, 180, 250, 2800, 550, 90,
        7200, 850, 110, 1100, 750, 25,
        500, 600, 15, 300, 400, 18,
        7500, 700, 70, 6000, 1200, 50
    ],
    "Customer Age": [
        27, 24, 32, 29, 25, 35,
        30, 41, 33, 26, 34, 38,
        22, 29, 30, 31, 36, 40,
        33, 44, 37, 39, 35, 29
    ],
    "Gender": [
        "Male", "Female", "Male", "Male", "Female", "Female",
        "Male", "Female", "Female", "Male", "Male", "Female",
        "Female", "Male", "Female", "Male", "Female", "Female",
        "Male", "Female", "Female", "Male", "Male", "Female"
    ],
    "Payment Method": [
        "Credit Card", "UPI", "Cash", "Debit Card", "UPI", "Cash",
        "Credit Card", "Debit Card", "UPI", "Credit Card", "Cash", "UPI",
        "UPI", "Debit Card", "Cash", "UPI", "UPI", "Cash",
        "Credit Card", "Debit Card", "UPI", "Credit Card", "Cash", "UPI"
    ],
    "Region": [
        "South", "South", "South", "North", "North", "North",
        "East", "East", "East", "West", "West", "West",
        "South", "North", "North", "East", "East", "East",
        "East", "East", "East", "West", "West", "West"
    ]
}
df = pd.DataFrame(data)
sns.set(style="whitegrid")
plt.figure(figsize=(8, 5))
sns.barplot(data=df, x="Product Category", y="Sales (₹)", estimator=sum)
plt.title("Total Sales by Product Category")
plt.ylabel("Total Sales (₹)")
plt.xticks(rotation=30)
plt.tight_layout()
plt.show()
df['Month'] = pd.Categorical(df['Month'], ordered=True,
                             categories=["Jan 2022", "Feb 2022", "Mar 2022", "Apr 2022", "May 2022", "Jun 2022",
                                         "Jul 2023", "Aug 2023", "Sep 2023", "Oct 2023", "Nov 2023", "Dec 2023",
                                         "Jan 2024", "Feb 2024", "Mar 2024", "Apr 2024", "May 2024", "Jun 2024",
                                         "Jul 2025", "Aug 2025", "Sep 2025", "Oct 2025", "Nov 2025", "Dec 2025"])
monthly_sales = df.groupby("Month")["Sales (₹)"].sum().reset_index()

plt.figure(figsize=(12, 6))
sns.lineplot(data=monthly_sales, x="Month", y="Sales (₹)", marker='o')
plt.title("Monthly Sales Trend (2022-2025)")
plt.xticks(rotation=45)
plt.tight_layout()
plt.show()
plt.figure(figsize=(8, 5))
sns.barplot(data=df, x="Region", y="Sales (₹)", estimator=sum, palette="pastel")
plt.title("Sales by Region")
plt.tight_layout()
plt.show()
plt.figure(figsize=(8, 5))
sns.boxplot(data=df, x="Payment Method", y="Profit (₹)", palette="Set2")
plt.title("Profit Distribution by Payment Method")
plt.xticks(rotation=15)
plt.tight_layout()
plt.show()
plt.figure(figsize=(8, 5))
sns.scatterplot(data=df, x="Customer Age", y="Sales (₹)", hue="Gender", palette="Set1")
plt.title("Customer Age vs Sales")
plt.tight_layout()
plt.show()
